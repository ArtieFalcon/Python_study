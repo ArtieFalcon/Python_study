{
 "cells": [
  {
   "cell_type": "code",
   "execution_count": 1,
   "id": "87675fa4-94c3-4d5a-9b81-c3412ac46ab6",
   "metadata": {},
   "outputs": [
    {
     "name": "stdout",
     "output_type": "stream",
     "text": [
      "hello world\n"
     ]
    }
   ],
   "source": [
    "import numpy as np\n",
    "print('hello world')"
   ]
  },
  {
   "cell_type": "code",
   "execution_count": 2,
   "id": "86041f26-1220-4677-a0cd-07d13d54f269",
   "metadata": {},
   "outputs": [
    {
     "name": "stdout",
     "output_type": "stream",
     "text": [
      "additional\n"
     ]
    }
   ],
   "source": [
    "print('additional')"
   ]
  },
  {
   "cell_type": "code",
   "execution_count": 2,
   "id": "c093f501-fdfe-44d9-9aa3-5fb3a7ea34af",
   "metadata": {},
   "outputs": [],
   "source": [
    "import pandas as pd"
   ]
  },
  {
   "cell_type": "code",
   "execution_count": 3,
   "id": "c1d1dc03-5fbc-46c3-9e99-236b59f34555",
   "metadata": {},
   "outputs": [
    {
     "data": {
      "text/html": [
       "<div>\n",
       "<style scoped>\n",
       "    .dataframe tbody tr th:only-of-type {\n",
       "        vertical-align: middle;\n",
       "    }\n",
       "\n",
       "    .dataframe tbody tr th {\n",
       "        vertical-align: top;\n",
       "    }\n",
       "\n",
       "    .dataframe thead th {\n",
       "        text-align: right;\n",
       "    }\n",
       "</style>\n",
       "<table border=\"1\" class=\"dataframe\">\n",
       "  <thead>\n",
       "    <tr style=\"text-align: right;\">\n",
       "      <th></th>\n",
       "      <th>Unnamed: 0</th>\n",
       "      <th>Name</th>\n",
       "      <th>Age</th>\n",
       "      <th>Nationality</th>\n",
       "      <th>Club</th>\n",
       "      <th>Value</th>\n",
       "      <th>Wage</th>\n",
       "      <th>Position</th>\n",
       "      <th>Crossing</th>\n",
       "      <th>Finishing</th>\n",
       "      <th>...</th>\n",
       "      <th>Penalties</th>\n",
       "      <th>Composure</th>\n",
       "      <th>Marking</th>\n",
       "      <th>StandingTackle</th>\n",
       "      <th>SlidingTackle</th>\n",
       "      <th>GKDiving</th>\n",
       "      <th>GKHandling</th>\n",
       "      <th>GKKicking</th>\n",
       "      <th>GKPositioning</th>\n",
       "      <th>GKReflexes</th>\n",
       "    </tr>\n",
       "  </thead>\n",
       "  <tbody>\n",
       "    <tr>\n",
       "      <th>12893</th>\n",
       "      <td>13122</td>\n",
       "      <td>N. Christoffersson</td>\n",
       "      <td>19</td>\n",
       "      <td>Sweden</td>\n",
       "      <td>Trelleborgs FF</td>\n",
       "      <td>60000</td>\n",
       "      <td>1000</td>\n",
       "      <td>ST</td>\n",
       "      <td>23</td>\n",
       "      <td>52</td>\n",
       "      <td>...</td>\n",
       "      <td>43</td>\n",
       "      <td>42</td>\n",
       "      <td>22</td>\n",
       "      <td>15</td>\n",
       "      <td>19</td>\n",
       "      <td>10</td>\n",
       "      <td>9</td>\n",
       "      <td>9</td>\n",
       "      <td>5</td>\n",
       "      <td>12</td>\n",
       "    </tr>\n",
       "    <tr>\n",
       "      <th>12894</th>\n",
       "      <td>13123</td>\n",
       "      <td>B. Worman</td>\n",
       "      <td>16</td>\n",
       "      <td>England</td>\n",
       "      <td>Cambridge United</td>\n",
       "      <td>60000</td>\n",
       "      <td>1000</td>\n",
       "      <td>ST</td>\n",
       "      <td>25</td>\n",
       "      <td>40</td>\n",
       "      <td>...</td>\n",
       "      <td>55</td>\n",
       "      <td>41</td>\n",
       "      <td>32</td>\n",
       "      <td>13</td>\n",
       "      <td>11</td>\n",
       "      <td>6</td>\n",
       "      <td>5</td>\n",
       "      <td>10</td>\n",
       "      <td>6</td>\n",
       "      <td>13</td>\n",
       "    </tr>\n",
       "    <tr>\n",
       "      <th>12895</th>\n",
       "      <td>13124</td>\n",
       "      <td>D. Walker-Rice</td>\n",
       "      <td>17</td>\n",
       "      <td>England</td>\n",
       "      <td>Tranmere Rovers</td>\n",
       "      <td>60000</td>\n",
       "      <td>1000</td>\n",
       "      <td>RW</td>\n",
       "      <td>44</td>\n",
       "      <td>50</td>\n",
       "      <td>...</td>\n",
       "      <td>50</td>\n",
       "      <td>46</td>\n",
       "      <td>20</td>\n",
       "      <td>25</td>\n",
       "      <td>27</td>\n",
       "      <td>14</td>\n",
       "      <td>6</td>\n",
       "      <td>14</td>\n",
       "      <td>8</td>\n",
       "      <td>9</td>\n",
       "    </tr>\n",
       "    <tr>\n",
       "      <th>12896</th>\n",
       "      <td>13125</td>\n",
       "      <td>G. Nugent</td>\n",
       "      <td>16</td>\n",
       "      <td>England</td>\n",
       "      <td>Tranmere Rovers</td>\n",
       "      <td>60000</td>\n",
       "      <td>1000</td>\n",
       "      <td>CM</td>\n",
       "      <td>41</td>\n",
       "      <td>34</td>\n",
       "      <td>...</td>\n",
       "      <td>33</td>\n",
       "      <td>43</td>\n",
       "      <td>40</td>\n",
       "      <td>43</td>\n",
       "      <td>50</td>\n",
       "      <td>10</td>\n",
       "      <td>15</td>\n",
       "      <td>9</td>\n",
       "      <td>12</td>\n",
       "      <td>9</td>\n",
       "    </tr>\n",
       "  </tbody>\n",
       "</table>\n",
       "<p>4 rows × 42 columns</p>\n",
       "</div>"
      ],
      "text/plain": [
       "       Unnamed: 0                Name  Age Nationality              Club  \\\n",
       "12893       13122  N. Christoffersson   19      Sweden    Trelleborgs FF   \n",
       "12894       13123           B. Worman   16     England  Cambridge United   \n",
       "12895       13124      D. Walker-Rice   17     England   Tranmere Rovers   \n",
       "12896       13125           G. Nugent   16     England   Tranmere Rovers   \n",
       "\n",
       "       Value  Wage Position  Crossing  Finishing  ...  Penalties  Composure  \\\n",
       "12893  60000  1000       ST        23         52  ...         43         42   \n",
       "12894  60000  1000       ST        25         40  ...         55         41   \n",
       "12895  60000  1000       RW        44         50  ...         50         46   \n",
       "12896  60000  1000       CM        41         34  ...         33         43   \n",
       "\n",
       "       Marking  StandingTackle  SlidingTackle  GKDiving  GKHandling  \\\n",
       "12893       22              15             19        10           9   \n",
       "12894       32              13             11         6           5   \n",
       "12895       20              25             27        14           6   \n",
       "12896       40              43             50        10          15   \n",
       "\n",
       "       GKKicking  GKPositioning  GKReflexes  \n",
       "12893          9              5          12  \n",
       "12894         10              6          13  \n",
       "12895         14              8           9  \n",
       "12896          9             12           9  \n",
       "\n",
       "[4 rows x 42 columns]"
      ]
     },
     "metadata": {},
     "output_type": "display_data"
    }
   ],
   "source": [
    "df=pd.read_csv('data_sf.csv', sep=',')\n",
    "display(df.tail(4))"
   ]
  },
  {
   "cell_type": "code",
   "execution_count": 17,
   "id": "d1d0981e-99fc-4850-9565-307d005f563b",
   "metadata": {},
   "outputs": [
    {
     "name": "stdout",
     "output_type": "stream",
     "text": [
      "<class 'pandas.core.frame.DataFrame'>\n",
      "RangeIndex: 12897 entries, 0 to 12896\n",
      "Data columns (total 42 columns):\n",
      " #   Column           Non-Null Count  Dtype \n",
      "---  ------           --------------  ----- \n",
      " 0   Unnamed: 0       12897 non-null  int64 \n",
      " 1   Name             12897 non-null  object\n",
      " 2   Age              12897 non-null  int64 \n",
      " 3   Nationality      12897 non-null  object\n",
      " 4   Club             12897 non-null  object\n",
      " 5   Value            12897 non-null  int64 \n",
      " 6   Wage             12897 non-null  int64 \n",
      " 7   Position         12897 non-null  object\n",
      " 8   Crossing         12897 non-null  int64 \n",
      " 9   Finishing        12897 non-null  int64 \n",
      " 10  HeadingAccuracy  12897 non-null  int64 \n",
      " 11  ShortPassing     12897 non-null  int64 \n",
      " 12  Volleys          12897 non-null  int64 \n",
      " 13  Dribbling        12897 non-null  int64 \n",
      " 14  Curve            12897 non-null  int64 \n",
      " 15  FKAccuracy       12897 non-null  int64 \n",
      " 16  LongPassing      12897 non-null  int64 \n",
      " 17  BallControl      12897 non-null  int64 \n",
      " 18  Acceleration     12897 non-null  int64 \n",
      " 19  SprintSpeed      12897 non-null  int64 \n",
      " 20  Agility          12897 non-null  int64 \n",
      " 21  Reactions        12897 non-null  int64 \n",
      " 22  Balance          12897 non-null  int64 \n",
      " 23  ShotPower        12897 non-null  int64 \n",
      " 24  Jumping          12897 non-null  int64 \n",
      " 25  Stamina          12897 non-null  int64 \n",
      " 26  Strength         12897 non-null  int64 \n",
      " 27  LongShots        12897 non-null  int64 \n",
      " 28  Aggression       12897 non-null  int64 \n",
      " 29  Interceptions    12897 non-null  int64 \n",
      " 30  Positioning      12897 non-null  int64 \n",
      " 31  Vision           12897 non-null  int64 \n",
      " 32  Penalties        12897 non-null  int64 \n",
      " 33  Composure        12897 non-null  int64 \n",
      " 34  Marking          12897 non-null  int64 \n",
      " 35  StandingTackle   12897 non-null  int64 \n",
      " 36  SlidingTackle    12897 non-null  int64 \n",
      " 37  GKDiving         12897 non-null  int64 \n",
      " 38  GKHandling       12897 non-null  int64 \n",
      " 39  GKKicking        12897 non-null  int64 \n",
      " 40  GKPositioning    12897 non-null  int64 \n",
      " 41  GKReflexes       12897 non-null  int64 \n",
      "dtypes: int64(38), object(4)\n",
      "memory usage: 4.1+ MB\n"
     ]
    },
    {
     "data": {
      "text/plain": [
       "None"
      ]
     },
     "metadata": {},
     "output_type": "display_data"
    }
   ],
   "source": [
    "display(df.info())"
   ]
  },
  {
   "cell_type": "code",
   "execution_count": 18,
   "id": "fb9805a6-d2b8-43c3-825e-3b7fd8b89a26",
   "metadata": {},
   "outputs": [
    {
     "name": "stdout",
     "output_type": "stream",
     "text": [
      "0        42\n",
      "1        42\n",
      "2        42\n",
      "3        42\n",
      "4        42\n",
      "         ..\n",
      "12892    42\n",
      "12893    42\n",
      "12894    42\n",
      "12895    42\n",
      "12896    42\n",
      "Length: 12897, dtype: int64\n"
     ]
    }
   ],
   "source": [
    "print(df.count(axis='columns')) #columns quantity"
   ]
  },
  {
   "cell_type": "code",
   "execution_count": 32,
   "id": "3c0a15f5-b5fe-4dcc-b261-151351c3c8b8",
   "metadata": {},
   "outputs": [
    {
     "data": {
      "text/html": [
       "<div>\n",
       "<style scoped>\n",
       "    .dataframe tbody tr th:only-of-type {\n",
       "        vertical-align: middle;\n",
       "    }\n",
       "\n",
       "    .dataframe tbody tr th {\n",
       "        vertical-align: top;\n",
       "    }\n",
       "\n",
       "    .dataframe thead th {\n",
       "        text-align: right;\n",
       "    }\n",
       "</style>\n",
       "<table border=\"1\" class=\"dataframe\">\n",
       "  <thead>\n",
       "    <tr style=\"text-align: right;\">\n",
       "      <th></th>\n",
       "      <th>Age</th>\n",
       "      <th>Wage</th>\n",
       "      <th>Penalties</th>\n",
       "    </tr>\n",
       "  </thead>\n",
       "  <tbody>\n",
       "    <tr>\n",
       "      <th>count</th>\n",
       "      <td>12897.000000</td>\n",
       "      <td>12897.000000</td>\n",
       "      <td>12897.000000</td>\n",
       "    </tr>\n",
       "    <tr>\n",
       "      <th>mean</th>\n",
       "      <td>24.795379</td>\n",
       "      <td>7517.562224</td>\n",
       "      <td>46.459874</td>\n",
       "    </tr>\n",
       "    <tr>\n",
       "      <th>std</th>\n",
       "      <td>4.872212</td>\n",
       "      <td>23061.985387</td>\n",
       "      <td>15.479313</td>\n",
       "    </tr>\n",
       "    <tr>\n",
       "      <th>min</th>\n",
       "      <td>16.000000</td>\n",
       "      <td>1000.000000</td>\n",
       "      <td>5.000000</td>\n",
       "    </tr>\n",
       "    <tr>\n",
       "      <th>25%</th>\n",
       "      <td>21.000000</td>\n",
       "      <td>1000.000000</td>\n",
       "      <td>37.000000</td>\n",
       "    </tr>\n",
       "    <tr>\n",
       "      <th>50%</th>\n",
       "      <td>24.000000</td>\n",
       "      <td>2000.000000</td>\n",
       "      <td>47.000000</td>\n",
       "    </tr>\n",
       "    <tr>\n",
       "      <th>75%</th>\n",
       "      <td>28.000000</td>\n",
       "      <td>4000.000000</td>\n",
       "      <td>58.000000</td>\n",
       "    </tr>\n",
       "    <tr>\n",
       "      <th>max</th>\n",
       "      <td>45.000000</td>\n",
       "      <td>565000.000000</td>\n",
       "      <td>91.000000</td>\n",
       "    </tr>\n",
       "  </tbody>\n",
       "</table>\n",
       "</div>"
      ],
      "text/plain": [
       "                Age           Wage     Penalties\n",
       "count  12897.000000   12897.000000  12897.000000\n",
       "mean      24.795379    7517.562224     46.459874\n",
       "std        4.872212   23061.985387     15.479313\n",
       "min       16.000000    1000.000000      5.000000\n",
       "25%       21.000000    1000.000000     37.000000\n",
       "50%       24.000000    2000.000000     47.000000\n",
       "75%       28.000000    4000.000000     58.000000\n",
       "max       45.000000  565000.000000     91.000000"
      ]
     },
     "execution_count": 32,
     "metadata": {},
     "output_type": "execute_result"
    }
   ],
   "source": [
    "df[['Club','Age','Wage','Penalties']].describe() #statistics ONLY numerical columns!!"
   ]
  },
  {
   "cell_type": "code",
   "execution_count": 31,
   "id": "d4134876-d2c9-4529-a997-3ed3e9b88098",
   "metadata": {},
   "outputs": [
    {
     "data": {
      "text/html": [
       "<div>\n",
       "<style scoped>\n",
       "    .dataframe tbody tr th:only-of-type {\n",
       "        vertical-align: middle;\n",
       "    }\n",
       "\n",
       "    .dataframe tbody tr th {\n",
       "        vertical-align: top;\n",
       "    }\n",
       "\n",
       "    .dataframe thead th {\n",
       "        text-align: right;\n",
       "    }\n",
       "</style>\n",
       "<table border=\"1\" class=\"dataframe\">\n",
       "  <thead>\n",
       "    <tr style=\"text-align: right;\">\n",
       "      <th></th>\n",
       "      <th>Club</th>\n",
       "      <th>Nationality</th>\n",
       "    </tr>\n",
       "  </thead>\n",
       "  <tbody>\n",
       "    <tr>\n",
       "      <th>count</th>\n",
       "      <td>12897</td>\n",
       "      <td>12897</td>\n",
       "    </tr>\n",
       "    <tr>\n",
       "      <th>unique</th>\n",
       "      <td>650</td>\n",
       "      <td>156</td>\n",
       "    </tr>\n",
       "    <tr>\n",
       "      <th>top</th>\n",
       "      <td>V-Varen Nagasaki</td>\n",
       "      <td>England</td>\n",
       "    </tr>\n",
       "    <tr>\n",
       "      <th>freq</th>\n",
       "      <td>30</td>\n",
       "      <td>1368</td>\n",
       "    </tr>\n",
       "  </tbody>\n",
       "</table>\n",
       "</div>"
      ],
      "text/plain": [
       "                    Club Nationality\n",
       "count              12897       12897\n",
       "unique               650         156\n",
       "top     V-Varen Nagasaki     England\n",
       "freq                  30        1368"
      ]
     },
     "execution_count": 31,
     "metadata": {},
     "output_type": "execute_result"
    }
   ],
   "source": [
    "#statistics NON numerical columns!!\n",
    "df[['Club','Age','Wage','Nationality']].describe(include = ['object']) "
   ]
  },
  {
   "cell_type": "code",
   "execution_count": 7,
   "id": "5fa780cd-1f50-4ed0-a8e7-d60c336671d3",
   "metadata": {},
   "outputs": [
    {
     "name": "stdout",
     "output_type": "stream",
     "text": [
      "45 7517.56222377297 and 12897\n"
     ]
    }
   ],
   "source": [
    "print(df['Age'].max(), df['Wage'].mean(), 'and', df['Penalties'].count()) \n",
    "# count() - number of NOT NULL elements"
   ]
  },
  {
   "cell_type": "code",
   "execution_count": null,
   "id": "89db95f2-26e0-43fb-bb45-20795f43e591",
   "metadata": {},
   "outputs": [
    {
     "data": {
      "text/html": [
       "<div>\n",
       "<style scoped>\n",
       "    .dataframe tbody tr th:only-of-type {\n",
       "        vertical-align: middle;\n",
       "    }\n",
       "\n",
       "    .dataframe tbody tr th {\n",
       "        vertical-align: top;\n",
       "    }\n",
       "\n",
       "    .dataframe thead th {\n",
       "        text-align: right;\n",
       "    }\n",
       "</style>\n",
       "<table border=\"1\" class=\"dataframe\">\n",
       "  <thead>\n",
       "    <tr style=\"text-align: right;\">\n",
       "      <th></th>\n",
       "      <th>bar</th>\n",
       "      <th>NewCol</th>\n",
       "    </tr>\n",
       "  </thead>\n",
       "  <tbody>\n",
       "    <tr>\n",
       "      <th>0</th>\n",
       "      <td>1.2</td>\n",
       "      <td>2</td>\n",
       "    </tr>\n",
       "    <tr>\n",
       "      <th>1</th>\n",
       "      <td>2.2</td>\n",
       "      <td>3</td>\n",
       "    </tr>\n",
       "    <tr>\n",
       "      <th>2</th>\n",
       "      <td>3.2</td>\n",
       "      <td>4</td>\n",
       "    </tr>\n",
       "    <tr>\n",
       "      <th>3</th>\n",
       "      <td>4.2</td>\n",
       "      <td>5</td>\n",
       "    </tr>\n",
       "    <tr>\n",
       "      <th>4</th>\n",
       "      <td>5.2</td>\n",
       "      <td>6</td>\n",
       "    </tr>\n",
       "    <tr>\n",
       "      <th>5</th>\n",
       "      <td>6.2</td>\n",
       "      <td>7</td>\n",
       "    </tr>\n",
       "    <tr>\n",
       "      <th>6</th>\n",
       "      <td>7.2</td>\n",
       "      <td>8</td>\n",
       "    </tr>\n",
       "    <tr>\n",
       "      <th>7</th>\n",
       "      <td>8.2</td>\n",
       "      <td>9</td>\n",
       "    </tr>\n",
       "    <tr>\n",
       "      <th>8</th>\n",
       "      <td>9.2</td>\n",
       "      <td>10</td>\n",
       "    </tr>\n",
       "    <tr>\n",
       "      <th>9</th>\n",
       "      <td>10.2</td>\n",
       "      <td>11</td>\n",
       "    </tr>\n",
       "  </tbody>\n",
       "</table>\n",
       "</div>"
      ],
      "text/plain": [
       "    bar  NewCol\n",
       "0   1.2       2\n",
       "1   2.2       3\n",
       "2   3.2       4\n",
       "3   4.2       5\n",
       "4   5.2       6\n",
       "5   6.2       7\n",
       "6   7.2       8\n",
       "7   8.2       9\n",
       "8   9.2      10\n",
       "9  10.2      11"
      ]
     },
     "execution_count": 1,
     "metadata": {},
     "output_type": "execute_result"
    }
   ],
   "source": [
    "import pandas as pd\n",
    "# table creation \n",
    "dff = pd.DataFrame([[i,i+1.2,i+2, 'hi'] for i in range(10)],\n",
    "                  columns = ['foo', 'bar', 'baz', 'foobar'])\n",
    "dfff=pd.DataFrame(dff.bar) #column pd.DataFrame(dff.bar.head(9))\n",
    "new_col= dff['baz'].tolist()\n",
    "new_col=new_col[:]\n",
    "#print(new_col)\n",
    "dfff['NewCol'] = new_col\n",
    "dfff\n",
    "\n"
   ]
  },
  {
   "cell_type": "code",
   "execution_count": 55,
   "id": "8fa4a9b0-9f3a-4aea-9512-9d60fe44e942",
   "metadata": {},
   "outputs": [
    {
     "name": "stdout",
     "output_type": "stream",
     "text": [
      "     Name  Height Qualification  Address\n",
      "0     Jai     5.1           Msc        2\n",
      "1  Princi     6.2            MA        3\n",
      "2  Gaurav     5.1           Msc        4\n",
      "3    Anuj     5.2           Msc        5\n"
     ]
    }
   ],
   "source": [
    "# Import pandas package\n",
    "import pandas as pd\n",
    "# Define a dictionary containing Students data\n",
    "data = {'Name': ['Jai', 'Princi', 'Gaurav', 'Anuj'],\n",
    "        'Height': [5.1, 6.2, 5.1, 5.2],\n",
    "        'Qualification': ['Msc', 'MA', 'Msc', 'Msc']}\n",
    " # Convert the dictionary into DataFrame\n",
    "df = pd.DataFrame(data)\n",
    "# Declare a list that is to be converted into a column\n",
    "#address = ['Delhi', 'Bangalore', 'Chennai', 'Patna']\n",
    "address= dff['baz'].tolist()\n",
    "address=new_col[:4]\n",
    "# Using 'Address' as the column name\n",
    "# and equating it to the list\n",
    "df['Address'] = address\n",
    "# Observe the result\n",
    "print(df)"
   ]
  },
  {
   "cell_type": "code",
   "execution_count": 12,
   "id": "0a324d3a-6203-4a2e-8807-6e3cf2104698",
   "metadata": {},
   "outputs": [
    {
     "ename": "FileNotFoundError",
     "evalue": "[Errno 2] No such file or directory: '/data_sf.csv'",
     "output_type": "error",
     "traceback": [
      "\u001b[1;31m---------------------------------------------------------------------------\u001b[0m",
      "\u001b[1;31mFileNotFoundError\u001b[0m                         Traceback (most recent call last)",
      "\u001b[1;32m~\\AppData\\Local\\Temp/ipykernel_6408/397170176.py\u001b[0m in \u001b[0;36m<module>\u001b[1;34m\u001b[0m\n\u001b[0;32m      1\u001b[0m \u001b[1;32mimport\u001b[0m \u001b[0mpandas\u001b[0m \u001b[1;32mas\u001b[0m \u001b[0mpd\u001b[0m\u001b[1;33m\u001b[0m\u001b[1;33m\u001b[0m\u001b[0m\n\u001b[0;32m      2\u001b[0m \u001b[0mpath\u001b[0m \u001b[1;33m=\u001b[0m\u001b[1;34m'/data_sf.csv'\u001b[0m\u001b[1;33m\u001b[0m\u001b[1;33m\u001b[0m\u001b[0m\n\u001b[1;32m----> 3\u001b[1;33m \u001b[0mopen\u001b[0m\u001b[1;33m(\u001b[0m\u001b[0mpath\u001b[0m\u001b[1;33m)\u001b[0m\u001b[1;33m.\u001b[0m\u001b[0mreadline\u001b[0m\u001b[1;33m(\u001b[0m\u001b[1;33m)\u001b[0m\u001b[1;33m\u001b[0m\u001b[1;33m\u001b[0m\u001b[0m\n\u001b[0m\u001b[0;32m      4\u001b[0m \u001b[0mdf\u001b[0m\u001b[1;33m=\u001b[0m\u001b[0mpd\u001b[0m\u001b[1;33m.\u001b[0m\u001b[0mread_csv\u001b[0m\u001b[1;33m(\u001b[0m\u001b[1;34m'data_sf.csv'\u001b[0m\u001b[1;33m)\u001b[0m\u001b[1;33m\u001b[0m\u001b[1;33m\u001b[0m\u001b[0m\n\u001b[0;32m      5\u001b[0m \u001b[0mdf\u001b[0m\u001b[1;33m\u001b[0m\u001b[1;33m\u001b[0m\u001b[0m\n",
      "\u001b[1;31mFileNotFoundError\u001b[0m: [Errno 2] No such file or directory: '/data_sf.csv'"
     ]
    }
   ],
   "source": [
    "import pandas as pd \n",
    "path ='/data_sf.csv'\n",
    "open(path).readline()\n",
    "df=pd.read_csv('data_sf.csv')\n",
    "df"
   ]
  },
  {
   "cell_type": "code",
   "execution_count": 24,
   "id": "16e3213c-d3db-46fe-b6d6-2984f3dbce5f",
   "metadata": {},
   "outputs": [
    {
     "data": {
      "text/plain": [
       "4"
      ]
     },
     "execution_count": 24,
     "metadata": {},
     "output_type": "execute_result"
    }
   ],
   "source": [
    "nums=[1,1,1,1,0,0,0,1,1,1]\n",
    "def f(nums):\n",
    "    b=0\n",
    "    c=0\n",
    "    for n in nums:\n",
    "        if n==1:\n",
    "            c+=1\n",
    "            b=max(c,b)\n",
    "        else:\n",
    "            c=0\n",
    "    return b\n",
    "f(nums)\n",
    "    "
   ]
  },
  {
   "cell_type": "code",
   "execution_count": 31,
   "id": "244ff882-cb94-4ab7-9db8-e2b31f476dac",
   "metadata": {},
   "outputs": [
    {
     "name": "stdout",
     "output_type": "stream",
     "text": [
      "equal\n"
     ]
    }
   ],
   "source": [
    "a='trijndn5 sjknv 5jnsk 5njsk\"njdnnkk((0n '\n",
    "#b='trisjnvlsjcn  sioj8  iis900'\n",
    "b='trijndn5 sjknv 5jnsk n5jsk\"njdnnkk((0n '\n",
    "al=list(a).sort()\n",
    "bl=list(b).sort()\n",
    "if al!=bl:\n",
    "    print('not equal')\n",
    "else:\n",
    "    print('equal')"
   ]
  },
  {
   "cell_type": "code",
   "execution_count": 32,
   "id": "357bd90e-bbba-4849-bf7a-46d803d036fb",
   "metadata": {},
   "outputs": [
    {
     "name": "stdout",
     "output_type": "stream",
     "text": [
      "Requirement already satisfied: matplotlib in c:\\users\\artemiy\\anaconda3\\lib\\site-packages (3.4.3)\n",
      "Requirement already satisfied: numpy>=1.16 in c:\\users\\artemiy\\anaconda3\\lib\\site-packages (from matplotlib) (1.20.3)\n",
      "Requirement already satisfied: pyparsing>=2.2.1 in c:\\users\\artemiy\\anaconda3\\lib\\site-packages (from matplotlib) (3.0.4)\n",
      "Requirement already satisfied: kiwisolver>=1.0.1 in c:\\users\\artemiy\\anaconda3\\lib\\site-packages (from matplotlib) (1.3.1)\n",
      "Requirement already satisfied: pillow>=6.2.0 in c:\\users\\artemiy\\anaconda3\\lib\\site-packages (from matplotlib) (8.4.0)\n",
      "Requirement already satisfied: cycler>=0.10 in c:\\users\\artemiy\\anaconda3\\lib\\site-packages (from matplotlib) (0.10.0)\n",
      "Requirement already satisfied: python-dateutil>=2.7 in c:\\users\\artemiy\\anaconda3\\lib\\site-packages (from matplotlib) (2.8.2)\n",
      "Requirement already satisfied: six in c:\\users\\artemiy\\anaconda3\\lib\\site-packages (from cycler>=0.10->matplotlib) (1.16.0)\n",
      "Note: you may need to restart the kernel to use updated packages.\n"
     ]
    }
   ],
   "source": [
    "pip install matplotlib"
   ]
  },
  {
   "cell_type": "code",
   "execution_count": 33,
   "id": "18f334a3-5211-4905-8a34-3278d8ed9764",
   "metadata": {},
   "outputs": [
    {
     "data": {
      "image/png": "[encoded data removed]",
      "text/plain": [
       "<Figure size 432x288 with 1 Axes>"
      ]
     },
     "metadata": {
      "needs_background": "light"
     },
     "output_type": "display_data"
    }
   ],
   "source": [
    "# importing the required module\n",
    "import matplotlib.pyplot as plt\n",
    "  \n",
    "# x axis values\n",
    "x = [1,2,3]\n",
    "# corresponding y axis values\n",
    "y = [2,4,1]\n",
    "  \n",
    "# plotting the points \n",
    "plt.plot(x, y)\n",
    "  \n",
    "# naming the x axis\n",
    "plt.xlabel('x - axis')\n",
    "# naming the y axis\n",
    "plt.ylabel('y - axis')\n",
    "  \n",
    "# giving a title to my graph\n",
    "plt.title('My first graph!')\n",
    "  \n",
    "# function to show the plot\n",
    "plt.show()"
   ]
  },
  {
   "cell_type": "code",
   "execution_count": 10,
   "id": "0d6b789c-d085-4688-ba90-fc6ec91b857c",
   "metadata": {},
   "outputs": [
    {
     "data": {
      "image/png": "[encoded data removed]",
      "text/plain": [
       "<Figure size 432x288 with 1 Axes>"
      ]
     },
     "metadata": {
      "needs_background": "light"
     },
     "output_type": "display_data"
    }
   ],
   "source": [
    "import matplotlib.pyplot as plt\n",
    "  \n",
    "# x-coordinates of left sides of bars \n",
    "left = [1, 2, 3, 4, 5]\n",
    "  \n",
    "# heights of bars\n",
    "height = [10, 24, 36, 40, 5]\n",
    "  \n",
    "# labels for bars\n",
    "tick_label = ['one', 'two', 'three', 'four', 'five']\n",
    "  \n",
    "# plotting a bar chart\n",
    "plt.bar(left, height, tick_label = tick_label,\n",
    "        width = 0.8, color = ['red', 'green'])\n",
    "  \n",
    "# naming the x-axis\n",
    "plt.xlabel('x - axis')\n",
    "# naming the y-axis\n",
    "plt.ylabel('y - axis')\n",
    "# plot title\n",
    "plt.title('My bar chart!')\n",
    "  \n",
    "# function to show the plot\n",
    "plt.show()"
   ]
  },
  {
   "cell_type": "code",
   "execution_count": 35,
   "id": "6f1023bd-2be1-4e86-b8c1-0afacba75dbd",
   "metadata": {},
   "outputs": [
    {
     "data": {
      "image/png": "[encoded data removed]",
      "text/plain": [
       "<Figure size 432x288 with 1 Axes>"
      ]
     },
     "metadata": {
      "needs_background": "light"
     },
     "output_type": "display_data"
    }
   ],
   "source": [
    "# importing the required modules\n",
    "import matplotlib.pyplot as plt\n",
    "import numpy as np\n",
    "  \n",
    "# setting the x - coordinates\n",
    "x = np.arange(0, 2*(np.pi), 0.1)\n",
    "# setting the corresponding y - coordinates\n",
    "y = np.sin(x)\n",
    "  \n",
    "# plotting the points\n",
    "plt.plot(x, y)\n",
    "  \n",
    "# function to show the plot\n",
    "plt.show()"
   ]
  },
  {
   "cell_type": "code",
   "execution_count": 58,
   "id": "a96f33c0-92d1-4cec-8f5a-a0907053fd1c",
   "metadata": {},
   "outputs": [
    {
     "name": "stdout",
     "output_type": "stream",
     "text": [
      "<class 'numpy.ndarray'>\n"
     ]
    },
    {
     "data": {
      "image/png": "[encoded data removed]",
      "text/plain": [
       "<Figure size 432x288 with 1 Axes>"
      ]
     },
     "metadata": {
      "needs_background": "light"
     },
     "output_type": "display_data"
    }
   ],
   "source": [
    "# importing the required modules\n",
    "import matplotlib.pyplot as plt\n",
    "import numpy as np\n",
    "import math\n",
    "# setting the x - coordinates\n",
    "x = np.arange(1, 100, 1)\n",
    "# setting the corresponding y - coordinates\n",
    "#y = math.log(x)\n",
    "print(type(x))\n",
    "y=[]\n",
    "for i in x:\n",
    "    if i>0:\n",
    "        y1=0\n",
    "        y1=math.log(i)\n",
    "        y.append(y1)\n",
    " \n",
    "# plotting the points\n",
    "plt.plot(x, y)\n",
    "  \n",
    "# function to show the plot\n",
    "plt.show()"
   ]
  },
  {
   "cell_type": "code",
   "execution_count": 65,
   "id": "eb860029-f84e-4568-92c2-b9d26698fba4",
   "metadata": {},
   "outputs": [
    {
     "name": "stdout",
     "output_type": "stream",
     "text": [
      "trijndn5 sjknv 5jnsk 5njsk\"njdnnkk((0n \n",
      "{'k', '0', '(', 't', '5', '\"', 's', 'n', 'r', 'j', 'i', 'd', ' ', 'v'} 14\n",
      "trijndn5 sjknv 5jnsk 5njsk\"njdnnkk((0n  trijndn5 sjknv 5jnsk n5jsk\"njdnnkk((0n \n"
     ]
    }
   ],
   "source": [
    "print(a)\n",
    "print(set(a),len(set(a)))\n",
    "def ff(a):\n",
    "    d={}\n",
    "    for x in a:\n",
    "        if x in d.keys():\n",
    "            d[x]+=1\n",
    "        else:\n",
    "            d[x]=1\n",
    "    return d\n",
    "#ff(a)\n",
    "def aeb(a,b):\n",
    "    return ff(a)==ff(b)\n",
    "aeb(a,b)\n",
    "print(a,b)\n",
    "\n"
   ]
  },
  {
   "cell_type": "code",
   "execution_count": 80,
   "id": "f86786d3-1b2a-4c41-9434-af2157e5aed0",
   "metadata": {},
   "outputs": [
    {
     "name": "stdout",
     "output_type": "stream",
     "text": [
      "<class 'str'>\n",
      "((()))\n",
      "(()())\n",
      "(())()\n",
      "()(())\n",
      "()()()\n"
     ]
    }
   ],
   "source": [
    "cur='(('\n",
    "print(type(cur))\n",
    "def generate(cur, opens, closed,n):\n",
    "    if len(cur) == 2*n:\n",
    "        print(cur)\n",
    "        #if opens==closed:\n",
    "        return\n",
    "    if opens < n:\n",
    "        generate(cur +'(',opens + 1,closed, n)\n",
    "    if closed < opens:\n",
    "        generate(cur +')',opens,closed + 1, n)\n",
    "def paren(n):\n",
    "    generate('',0,0,n)\n",
    "paren(3)\n",
    "\n",
    "\n",
    "        \n",
    "    "
   ]
  },
  {
   "cell_type": "code",
   "execution_count": null,
   "id": "f26264bf-548e-48ef-9f33-270951389318",
   "metadata": {},
   "outputs": [],
   "source": [
    "Даны две строки строчных латинских символов: строка J и строка S. Символы, входящие в строку J, — «драгоценности», входящие в строку S — «камни». Нужно определить, какое количество символов из S одновременно являются «драгоценностями». Проще говоря, нужно проверить, какое количество символов из S входит в J."
   ]
  },
  {
   "cell_type": "code",
   "execution_count": 138,
   "id": "f81c2d11-cef2-4067-9df8-076410df2bf5",
   "metadata": {},
   "outputs": [
    {
     "name": "stdout",
     "output_type": "stream",
     "text": [
      "[ 1  2  3  4  5  6  7  8  9 10]\n",
      "[ 6  8  5  5 10  9  6  4 10  2]\n",
      "8\n",
      "s= 10 * 2\n"
     ]
    },
    {
     "ename": "ValueError",
     "evalue": "max() arg is an empty sequence",
     "output_type": "error",
     "traceback": [
      "\u001b[1;31m---------------------------------------------------------------------------\u001b[0m",
      "\u001b[1;31mValueError\u001b[0m                                Traceback (most recent call last)",
      "\u001b[1;32m~\\AppData\\Local\\Temp/ipykernel_8556/3352052905.py\u001b[0m in \u001b[0;36m<module>\u001b[1;34m\u001b[0m\n\u001b[0;32m     37\u001b[0m     \u001b[1;31m#sq=mi*abs((np.where(arr == mi)[0][0]) -  )\u001b[0m\u001b[1;33m\u001b[0m\u001b[1;33m\u001b[0m\u001b[0m\n\u001b[0;32m     38\u001b[0m     \u001b[1;32mreturn\u001b[0m \u001b[0msq\u001b[0m\u001b[1;33m\u001b[0m\u001b[1;33m\u001b[0m\u001b[0m\n\u001b[1;32m---> 39\u001b[1;33m \u001b[0mwater\u001b[0m\u001b[1;33m(\u001b[0m\u001b[1;36m10\u001b[0m\u001b[1;33m)\u001b[0m\u001b[1;33m\u001b[0m\u001b[1;33m\u001b[0m\u001b[0m\n\u001b[0m",
      "\u001b[1;32m~\\AppData\\Local\\Temp/ipykernel_8556/3352052905.py\u001b[0m in \u001b[0;36mwater\u001b[1;34m(n)\u001b[0m\n\u001b[0;32m     24\u001b[0m             \u001b[0ms\u001b[0m\u001b[1;33m.\u001b[0m\u001b[0mappend\u001b[0m\u001b[1;33m(\u001b[0m\u001b[0msq\u001b[0m\u001b[1;33m)\u001b[0m\u001b[1;33m\u001b[0m\u001b[1;33m\u001b[0m\u001b[0m\n\u001b[0;32m     25\u001b[0m             \u001b[0mprint\u001b[0m\u001b[1;33m(\u001b[0m\u001b[1;34m's='\u001b[0m\u001b[1;33m,\u001b[0m\u001b[0mn\u001b[0m\u001b[1;33m-\u001b[0m\u001b[0mi\u001b[0m\u001b[1;33m,\u001b[0m \u001b[1;34m'*'\u001b[0m\u001b[1;33m,\u001b[0m \u001b[0mhight\u001b[0m\u001b[1;33m,\u001b[0m \u001b[1;34m'='\u001b[0m\u001b[1;33m,\u001b[0m \u001b[0msq\u001b[0m\u001b[1;33m)\u001b[0m\u001b[1;33m\u001b[0m\u001b[1;33m\u001b[0m\u001b[0m\n\u001b[1;32m---> 26\u001b[1;33m     \u001b[0mprint\u001b[0m\u001b[1;33m(\u001b[0m\u001b[0mmax\u001b[0m\u001b[1;33m(\u001b[0m\u001b[0ms\u001b[0m\u001b[1;33m)\u001b[0m\u001b[1;33m)\u001b[0m\u001b[1;33m\u001b[0m\u001b[1;33m\u001b[0m\u001b[0m\n\u001b[0m\u001b[0;32m     27\u001b[0m \u001b[1;33m\u001b[0m\u001b[0m\n\u001b[0;32m     28\u001b[0m \u001b[1;33m\u001b[0m\u001b[0m\n",
      "\u001b[1;31mValueError\u001b[0m: max() arg is an empty sequence"
     ]
    },
    {
     "data": {
      "image/png": "[encoded data removed]",
      "text/plain": [
       "<Figure size 432x288 with 1 Axes>"
      ]
     },
     "metadata": {
      "needs_background": "light"
     },
     "output_type": "display_data"
    }
   ],
   "source": [
    "#11. Container With Most Water\n",
    "import matplotlib.pyplot as plt\n",
    "def water(n):\n",
    "    import numpy as np\n",
    "#n=int(input())\n",
    "    k=np.array(range(1, n+1))\n",
    "    print(k)\n",
    "    arr=np.random.randint(n+1, size=n)\n",
    "    print(arr)\n",
    "    plt.bar(k, arr,  #tick_label = tick_label ,\n",
    "                width = 0.1, color = ['green'])\n",
    "    m=max(arr)\n",
    "    s=[]\n",
    "    mmax=np.where(k == n)[0][0]\n",
    "    mmin=np.where(k == 1)[0][0]\n",
    "    print(arr[1])\n",
    "    hight=min(arr[0], arr[n-1] )\n",
    "    sq = n*hight\n",
    "    print('s=',n, '*', hight)\n",
    "    for i in range(1,int(n/2)-2):\n",
    "        if arr[i+1]>arr[i]:\n",
    "            hight=min(arr[i], arr[n+i] )\n",
    "            sq = (n)*hight\n",
    "            s.append(sq)\n",
    "            print('s=',n-i, '*', hight, '=', sq)\n",
    "    print(max(s))\n",
    "    \n",
    "\n",
    "    #for x in arr:\n",
    "        #if  np.where(arr == x)[0][0] == np.where(arr == m)[0][0]:\n",
    "            #less_max = x\n",
    "            \n",
    "     #   if 1==1 and x > less_max and np.where(arr == x)[0][0] != np.where(arr == m)[0][0]:\n",
    "    #        less_max = x\n",
    "   # mi=min(m,less_max)\n",
    "    \n",
    "    #sq=mi*abs((np.where(arr == mi)[0][0]) -  )\n",
    "    return sq\n",
    "water(10)"
   ]
  },
  {
   "cell_type": "code",
   "execution_count": 122,
   "id": "58500b65-aea2-4c4c-914c-533b9d444629",
   "metadata": {},
   "outputs": [
    {
     "name": "stdout",
     "output_type": "stream",
     "text": [
      "[0 1 2 3 4 5 6 7 8 9] 1 1\n"
     ]
    }
   ],
   "source": [
    "import numpy as np\n",
    "k=1\n",
    "n=np.array(range(0,10))\n",
    "index = np.where(n == k)\n",
    "indexx = np.where(n == k)[0][0]\n",
    "print(n, index[0][0],indexx)"
   ]
  },
  {
   "cell_type": "code",
   "execution_count": 6,
   "id": "b261ba05-5e1c-4801-8315-542573e7c561",
   "metadata": {},
   "outputs": [
    {
     "data": {
      "text/plain": [
       "['1', '0']"
      ]
     },
     "execution_count": 6,
     "metadata": {},
     "output_type": "execute_result"
    }
   ],
   "source": [
    "#66. Plus One\n",
    "digits = [9] #[1,2,3]\n",
    "def f(d):\n",
    "    for i in range(0,len(d)):\n",
    "        d[i]=str(d[i])\n",
    "    d=''.join(d)\n",
    "    d=int(d)\n",
    "    d+=1\n",
    "    d=str(d)\n",
    "    d=list(d)\n",
    "        \n",
    "    return d\n",
    "f(digits)\n",
    "\n"
   ]
  },
  {
   "cell_type": "code",
   "execution_count": 9,
   "id": "0defa8b8-1b5b-48de-b1bb-791bde83c2d2",
   "metadata": {},
   "outputs": [
    {
     "data": {
      "text/plain": [
       "[1, 1]"
      ]
     },
     "execution_count": 9,
     "metadata": {},
     "output_type": "execute_result"
    }
   ],
   "source": [
    "def f(n):\n",
    "    l=[]\n",
    "    for i in range(0,n):\n",
    "        l.append(1)\n",
    "        if n < 3:\n",
    "            #l1\n",
    "            l.append((n))\n",
    "        #l.append(l)\n",
    "    #if n > 1\n",
    "        \n",
    "    return l\n",
    "f(1)\n",
    "        \n",
    "        \n",
    "        "
   ]
  },
  {
   "cell_type": "code",
   "execution_count": 26,
   "id": "1bf6360f-ddc2-4fcf-afee-85c49dfe1cfc",
   "metadata": {},
   "outputs": [
    {
     "data": {
      "text/plain": [
       "[1, 2]"
      ]
     },
     "execution_count": 26,
     "metadata": {},
     "output_type": "execute_result"
    }
   ],
   "source": [
    "#def twoSum(self, nums: List[int], target: int) -> List[int]:\n",
    "nums=[2,5,5,11]\n",
    "target=10\n",
    "def twoSum(nums, target):\n",
    "    c1=c2=0\n",
    "    l=[]\n",
    "    for i in range(0,len(nums)):\n",
    "        for j in range(0,len(nums)):\n",
    "            if nums[i] + nums[j] == target and i != j:\n",
    "                l.append(i)\n",
    "                l.append(j)\n",
    "                break\n",
    "    return l[:2]\n",
    "        \n",
    "twoSum(nums, target)"
   ]
  },
  {
   "cell_type": "code",
   "execution_count": 42,
   "id": "79b279ec-5cfd-4f49-88ef-5eb75c7f8dea",
   "metadata": {},
   "outputs": [
    {
     "data": {
      "text/plain": [
       "[1, 2]"
      ]
     },
     "execution_count": 42,
     "metadata": {},
     "output_type": "execute_result"
    }
   ],
   "source": [
    "#def twoSum(self, nums: List[int], target: int) -> List[int]:\n",
    "nums=[2,5,5,11]\n",
    "target=10\n",
    "def twoSum(nums, target):\n",
    "    c1=c2=0\n",
    "    l=[]\n",
    "    for i in range(0,len(nums)):\n",
    "        c=1\n",
    "        while c + i < len(nums):\n",
    "            if nums[i]+nums[i+c] == target:\n",
    "                l.append(i)\n",
    "                l.append(i+c)\n",
    "                break\n",
    "            else:\n",
    "                c+=1\n",
    "            \n",
    "    return l\n",
    "     \n",
    "        \n",
    "twoSum(nums, target)"
   ]
  },
  {
   "cell_type": "code",
   "execution_count": 76,
   "id": "38b73b02-fdc3-43ce-9aa9-d8e9021c73f2",
   "metadata": {},
   "outputs": [
    {
     "data": {
      "text/plain": [
       "[[1], [1, 1], [1, 2, 1], [1, 3, 3, 1], [1, 4, 6, 4, 1]]"
      ]
     },
     "execution_count": 76,
     "metadata": {},
     "output_type": "execute_result"
    }
   ],
   "source": [
    "numRows =5\n",
    "def generate( numRows):\n",
    "    \n",
    "    l=[]\n",
    "    #l[0]=1\n",
    "    \n",
    "    for i in range(0,numRows):\n",
    "        ll=[]\n",
    "        c = 0\n",
    "        while c <= i:\n",
    "            ll.append(1)\n",
    "            c+=1\n",
    "        l.append(ll)\n",
    "        #l[i][1]=1\n",
    "       # l[i][-1]=1\n",
    "    for i in range(2,numRows):\n",
    "        for j in range(1,i):\n",
    "            l[i][j]=l[i-1][j-1]+l[i-1][j]\n",
    "        \n",
    "    return l\n",
    "generate(numRows)"
   ]
  },
  {
   "cell_type": "code",
   "execution_count": 54,
   "id": "2038e323-ddb3-4941-989b-b997a350717b",
   "metadata": {},
   "outputs": [
    {
     "name": "stdout",
     "output_type": "stream",
     "text": [
      "[[0]]\n"
     ]
    }
   ],
   "source": [
    "ll=[]\n",
    "ll.append([0])\n",
    "print(ll)"
   ]
  },
  {
   "cell_type": "code",
   "execution_count": 92,
   "id": "dcfe5f73-d386-4ff3-a1fc-501c5ef6485e",
   "metadata": {},
   "outputs": [
    {
     "data": {
      "text/plain": [
       "False"
      ]
     },
     "execution_count": 92,
     "metadata": {},
     "output_type": "execute_result"
    }
   ],
   "source": [
    "#s = \"egg\"\n",
    "#t = \"bar\" #\"add\"\n",
    "#s = \"badc\"\n",
    "#t= \"baba\"\n",
    "\n",
    "def isIsomorphic(s, t):\n",
    "    ss=list(s)\n",
    "    tt=list(t)\n",
    "    if len(ss) ==len(tt):\n",
    "        d={}\n",
    "        for i in range(0,len(ss)):\n",
    "            if ss[i] in d.keys() and tt[i] in d.values():\n",
    "                if tt[i] == d[ss[i]]:\n",
    "                    continue\n",
    "                else:\n",
    "                    return False\n",
    "                    break\n",
    "            elif ss[i] not in d.keys() and tt[i] in d.values():\n",
    "                return False\n",
    "                break\n",
    "            elif ss[i] in d.keys() and (tt[i] not in d.values() or tt[i] != d[ss[i]]):\n",
    "                return False\n",
    "                break\n",
    "            else:\n",
    "                d[ss[i]]=tt[i]\n",
    "        return True\n",
    "    else:\n",
    "        return False\n",
    "isIsomorphic(\"badc\",\"baba\")"
   ]
  },
  {
   "cell_type": "code",
   "execution_count": null,
   "id": "d4fd8556-6e80-4a03-87ca-f8ab63990c88",
   "metadata": {},
   "outputs": [],
   "source": []
  }
 ],
 "metadata": {
  "kernelspec": {
   "display_name": "Python 3 (ipykernel)",
   "language": "python",
   "name": "python3"
  },
  "language_info": {
   "codemirror_mode": {
    "name": "ipython",
    "version": 3
   },
   "file_extension": ".py",
   "mimetype": "text/x-python",
   "name": "python",
   "nbconvert_exporter": "python",
   "pygments_lexer": "ipython3",
   "version": "3.9.7"
  }
 },
 "nbformat": 4,
 "nbformat_minor": 5
}
